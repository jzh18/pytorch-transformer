{
 "cells": [
  {
   "cell_type": "code",
   "execution_count": 8,
   "id": "7c126a24-596d-4913-be74-93aca58cee76",
   "metadata": {},
   "outputs": [],
   "source": [
    "from model import build_transformer\n",
    "from train import get_ds\n",
    "from config import get_config\n",
    "import torch"
   ]
  },
  {
   "cell_type": "code",
   "execution_count": 3,
   "id": "4bd0ffc2-8f1f-42b9-964f-72834aaf442d",
   "metadata": {},
   "outputs": [
    {
     "name": "stdout",
     "output_type": "stream",
     "text": [
      "Max length of source sentence: 309\n",
      "Max length of target sentence: 274\n"
     ]
    }
   ],
   "source": [
    "config=get_config()\n",
    "train_dataloader, val_dataloader, tokenizer_src, tokenizer_tgt = get_ds(config)"
   ]
  },
  {
   "cell_type": "code",
   "execution_count": 4,
   "id": "0bf250de-17b5-4298-ab63-56b4761ad0d2",
   "metadata": {},
   "outputs": [
    {
     "data": {
      "text/plain": [
       "15698"
      ]
     },
     "execution_count": 4,
     "metadata": {},
     "output_type": "execute_result"
    }
   ],
   "source": [
    "tokenizer_src.get_vocab_size()"
   ]
  },
  {
   "cell_type": "code",
   "execution_count": 5,
   "id": "638da84e-3228-4247-ba55-2a293dc49a87",
   "metadata": {},
   "outputs": [],
   "source": [
    "src_vocab_size=tokenizer_src.get_vocab_size()\n",
    "tgt_vocab_size=tokenizer_tgt.get_vocab_size()\n",
    "src_seq_len=config[\"seq_len\"]\n",
    "tgt_seq_len=config['seq_len']\n",
    "d_model: int=512\n",
    "N: int=6\n",
    "h: int=8\n",
    "dropout: float=0.1\n",
    "d_ff: int=2048\n",
    "\n",
    "model=build_transformer(src_vocab_size,tgt_vocab_size,src_seq_len,tgt_seq_len)"
   ]
  },
  {
   "cell_type": "code",
   "execution_count": 34,
   "id": "731339ce-2aa7-490d-b9f9-8e79bdd80701",
   "metadata": {},
   "outputs": [
    {
     "name": "stdout",
     "output_type": "stream",
     "text": [
      "torch.Size([8, 350])\n"
     ]
    }
   ],
   "source": [
    "data=next(iter(train_dataloader))\n",
    "encoder_input=data['encoder_input']\n",
    "print(encoder_input.size())\n",
    "encoder_mask=data['encoder_mask']"
   ]
  },
  {
   "cell_type": "code",
   "execution_count": 38,
   "id": "3e56b338-49e0-483a-9bed-3d5b41fbb367",
   "metadata": {},
   "outputs": [
    {
     "data": {
      "text/plain": [
       "torch.Size([8, 350, 512])"
      ]
     },
     "execution_count": 38,
     "metadata": {},
     "output_type": "execute_result"
    }
   ],
   "source": [
    "encoder_output=model.encode(encoder_input,encoder_mask)\n",
    "encoder_output.size()"
   ]
  },
  {
   "cell_type": "code",
   "execution_count": 39,
   "id": "27740a0b-f8d8-4004-9d28-16ff7de1a786",
   "metadata": {},
   "outputs": [
    {
     "data": {
      "text/plain": [
       "{'encoder_input': tensor([[  2, 386,  49,  ...,   1,   1,   1],\n",
       "         [  2,  12, 711,  ...,   1,   1,   1],\n",
       "         [  2,   9, 392,  ...,   1,   1,   1],\n",
       "         ...,\n",
       "         [  2,  35,  91,  ...,   1,   1,   1],\n",
       "         [  2,   9,  19,  ...,   1,   1,   1],\n",
       "         [  2,   9,  90,  ...,   1,   1,   1]]),\n",
       " 'decoder_input': tensor([[   2,  208,  111,  ...,    1,    1,    1],\n",
       "         [   2,    9,  380,  ...,    1,    1,    1],\n",
       "         [   2,  411,  151,  ...,    1,    1,    1],\n",
       "         ...,\n",
       "         [   2,    9,   47,  ...,    1,    1,    1],\n",
       "         [   2, 1350, 3473,  ...,    1,    1,    1],\n",
       "         [   2,  136,  231,  ...,    1,    1,    1]]),\n",
       " 'encoder_mask': tensor([[[[1, 1, 1,  ..., 0, 0, 0]]],\n",
       " \n",
       " \n",
       "         [[[1, 1, 1,  ..., 0, 0, 0]]],\n",
       " \n",
       " \n",
       "         [[[1, 1, 1,  ..., 0, 0, 0]]],\n",
       " \n",
       " \n",
       "         ...,\n",
       " \n",
       " \n",
       "         [[[1, 1, 1,  ..., 0, 0, 0]]],\n",
       " \n",
       " \n",
       "         [[[1, 1, 1,  ..., 0, 0, 0]]],\n",
       " \n",
       " \n",
       "         [[[1, 1, 1,  ..., 0, 0, 0]]]], dtype=torch.int32),\n",
       " 'decoder_mask': tensor([[[[1, 0, 0,  ..., 0, 0, 0],\n",
       "           [1, 1, 0,  ..., 0, 0, 0],\n",
       "           [1, 1, 1,  ..., 0, 0, 0],\n",
       "           ...,\n",
       "           [1, 1, 1,  ..., 0, 0, 0],\n",
       "           [1, 1, 1,  ..., 0, 0, 0],\n",
       "           [1, 1, 1,  ..., 0, 0, 0]]],\n",
       " \n",
       " \n",
       "         [[[1, 0, 0,  ..., 0, 0, 0],\n",
       "           [1, 1, 0,  ..., 0, 0, 0],\n",
       "           [1, 1, 1,  ..., 0, 0, 0],\n",
       "           ...,\n",
       "           [1, 1, 1,  ..., 0, 0, 0],\n",
       "           [1, 1, 1,  ..., 0, 0, 0],\n",
       "           [1, 1, 1,  ..., 0, 0, 0]]],\n",
       " \n",
       " \n",
       "         [[[1, 0, 0,  ..., 0, 0, 0],\n",
       "           [1, 1, 0,  ..., 0, 0, 0],\n",
       "           [1, 1, 1,  ..., 0, 0, 0],\n",
       "           ...,\n",
       "           [1, 1, 1,  ..., 0, 0, 0],\n",
       "           [1, 1, 1,  ..., 0, 0, 0],\n",
       "           [1, 1, 1,  ..., 0, 0, 0]]],\n",
       " \n",
       " \n",
       "         ...,\n",
       " \n",
       " \n",
       "         [[[1, 0, 0,  ..., 0, 0, 0],\n",
       "           [1, 1, 0,  ..., 0, 0, 0],\n",
       "           [1, 1, 1,  ..., 0, 0, 0],\n",
       "           ...,\n",
       "           [1, 1, 1,  ..., 0, 0, 0],\n",
       "           [1, 1, 1,  ..., 0, 0, 0],\n",
       "           [1, 1, 1,  ..., 0, 0, 0]]],\n",
       " \n",
       " \n",
       "         [[[1, 0, 0,  ..., 0, 0, 0],\n",
       "           [1, 1, 0,  ..., 0, 0, 0],\n",
       "           [1, 1, 1,  ..., 0, 0, 0],\n",
       "           ...,\n",
       "           [1, 1, 1,  ..., 0, 0, 0],\n",
       "           [1, 1, 1,  ..., 0, 0, 0],\n",
       "           [1, 1, 1,  ..., 0, 0, 0]]],\n",
       " \n",
       " \n",
       "         [[[1, 0, 0,  ..., 0, 0, 0],\n",
       "           [1, 1, 0,  ..., 0, 0, 0],\n",
       "           [1, 1, 1,  ..., 0, 0, 0],\n",
       "           ...,\n",
       "           [1, 1, 1,  ..., 0, 0, 0],\n",
       "           [1, 1, 1,  ..., 0, 0, 0],\n",
       "           [1, 1, 1,  ..., 0, 0, 0]]]], dtype=torch.int32),\n",
       " 'label': tensor([[ 208,  111,   76,  ...,    1,    1,    1],\n",
       "         [   9,  380,    4,  ...,    1,    1,    1],\n",
       "         [ 411,  151,   25,  ...,    1,    1,    1],\n",
       "         ...,\n",
       "         [   9,   47,    8,  ...,    1,    1,    1],\n",
       "         [1350, 3473,   16,  ...,    1,    1,    1],\n",
       "         [ 136,  231, 2512,  ...,    1,    1,    1]]),\n",
       " 'src_text': ['All this time the poor man was in as great an ecstasy as I, only not under any surprise as I was; and he said a thousand kind and tender things to me, to compose and bring me to myself; but such was the flood of joy in my breast, that it put all my spirits into confusion: at last it broke out into tears, and in a little while after I recovered my speech; I then took my turn, and embraced him as my deliverer, and we rejoiced together.',\n",
       "  \"'Ah, Vronsky!\",\n",
       "  'I tried to do so once.',\n",
       "  \"'Well then, let us go to Anna's.\",\n",
       "  'She came and shook hand with me when she heard that I was her governess; and as I led her in to breakfast, I addressed some phrases to her in her own tongue: she replied briefly at first, but after we were seated at the table, and she had examined me some ten minutes with her large hazel eyes, she suddenly commenced chattering fluently.',\n",
       "  '\"And what have you to do with her?',\n",
       "  'I had once vowed that I would never call her aunt again: I thought it no sin to forget and break that vow now.',\n",
       "  'I only ask you to give me carte blanche.'],\n",
       " 'tgt_text': ['In tanto quel pover’uomo estatico anch’egli, se bene d’un’estasi non sì forte come la mia, si giovò d’ogni sorta d’espressioni ed atti amichevoli per ricomporre i miei spiriti e la mia ragione; ma tanta piena di gioia inondavami il petto, che spiriti e ragione vi si perdeano. Finalmente la mia esultanza trovò uno sfogo nel pianto, ed allora solamente riacquistai la parola.',\n",
       "  '— Ah, Vronskij!',\n",
       "  'Una volta mi ci provai.',\n",
       "  '— Su, allora, andiamo da Anna.',\n",
       "  'Nel condurla a colazione le rivolsi alcune parole nella sua lingua, alle quali rispose brevemente, ma dopo, a tavola, mi fissò con i suoi occhietti castani e incominciò a ciarlare.',\n",
       "  '— E che cosa avete a fare con lei?',\n",
       "  'Avevo giurato in altri tempi di non chiamarla più zia; ma ora parevami giusto di rompere quel giuramento.',\n",
       "  'Io ti chiedo solo carte blanche.']}"
      ]
     },
     "execution_count": 39,
     "metadata": {},
     "output_type": "execute_result"
    }
   ],
   "source": [
    "data"
   ]
  },
  {
   "cell_type": "code",
   "execution_count": null,
   "id": "5a771372-86de-45f5-ae6f-e6ac01cdcf2d",
   "metadata": {},
   "outputs": [],
   "source": [
    "decoder_mask=data['decoder_mask']\n",
    "tgt=data['label']\n",
    "model.decode(encoder_input,encoder_mask,decoder_mask,tgt)"
   ]
  },
  {
   "cell_type": "code",
   "execution_count": null,
   "id": "5f7e910a-b6e4-49b9-892f-d4907b6ce7a1",
   "metadata": {},
   "outputs": [],
   "source": []
  }
 ],
 "metadata": {
  "kernelspec": {
   "display_name": "Python 3 (ipykernel)",
   "language": "python",
   "name": "python3"
  },
  "language_info": {
   "codemirror_mode": {
    "name": "ipython",
    "version": 3
   },
   "file_extension": ".py",
   "mimetype": "text/x-python",
   "name": "python",
   "nbconvert_exporter": "python",
   "pygments_lexer": "ipython3",
   "version": "3.9.18"
  }
 },
 "nbformat": 4,
 "nbformat_minor": 5
}
